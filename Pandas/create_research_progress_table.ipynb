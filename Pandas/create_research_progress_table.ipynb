{
 "cells": [
  {
   "cell_type": "code",
   "execution_count": 5,
   "metadata": {},
   "outputs": [
    {
     "data": {
      "text/html": [
       "<div>\n",
       "<style scoped>\n",
       "    .dataframe tbody tr th:only-of-type {\n",
       "        vertical-align: middle;\n",
       "    }\n",
       "\n",
       "    .dataframe tbody tr th {\n",
       "        vertical-align: top;\n",
       "    }\n",
       "\n",
       "    .dataframe thead th {\n",
       "        text-align: right;\n",
       "    }\n",
       "</style>\n",
       "<table border=\"1\" class=\"dataframe\">\n",
       "  <thead>\n",
       "    <tr style=\"text-align: right;\">\n",
       "      <th></th>\n",
       "      <th>Resource Address</th>\n",
       "      <th>Resource Name</th>\n",
       "      <th>run code</th>\n",
       "      <th>read code</th>\n",
       "      <th>reimplementation</th>\n",
       "      <th>10%-20%</th>\n",
       "      <th>20%-40%</th>\n",
       "      <th>40%-60%</th>\n",
       "      <th>60%-80%</th>\n",
       "      <th>80%-100%</th>\n",
       "    </tr>\n",
       "  </thead>\n",
       "  <tbody>\n",
       "    <tr>\n",
       "      <th>0</th>\n",
       "      <td>https://arxiv.org/abs/2103.01456</td>\n",
       "      <td>Image-to-image Translation via Hierarchical St...</td>\n",
       "      <td>False</td>\n",
       "      <td>False</td>\n",
       "      <td>False</td>\n",
       "      <td>True</td>\n",
       "      <td>False</td>\n",
       "      <td>False</td>\n",
       "      <td>False</td>\n",
       "      <td>False</td>\n",
       "    </tr>\n",
       "    <tr>\n",
       "      <th>1</th>\n",
       "      <td>https://arxiv.org/abs/2008.00951</td>\n",
       "      <td>Encoding in Style: a StyleGAN Encoder for Imag...</td>\n",
       "      <td>False</td>\n",
       "      <td>False</td>\n",
       "      <td>False</td>\n",
       "      <td>True</td>\n",
       "      <td>False</td>\n",
       "      <td>False</td>\n",
       "      <td>False</td>\n",
       "      <td>False</td>\n",
       "    </tr>\n",
       "  </tbody>\n",
       "</table>\n",
       "</div>"
      ],
      "text/plain": [
       "                   Resource Address  \\\n",
       "0  https://arxiv.org/abs/2103.01456   \n",
       "1  https://arxiv.org/abs/2008.00951   \n",
       "\n",
       "                                       Resource Name  run code  read code  \\\n",
       "0  Image-to-image Translation via Hierarchical St...     False      False   \n",
       "1  Encoding in Style: a StyleGAN Encoder for Imag...     False      False   \n",
       "\n",
       "   reimplementation  10%-20%  20%-40%  40%-60%  60%-80%  80%-100%  \n",
       "0             False     True    False    False    False     False  \n",
       "1             False     True    False    False    False     False  "
      ]
     },
     "execution_count": 5,
     "metadata": {},
     "output_type": "execute_result"
    }
   ],
   "source": [
    "import pandas as pd\n",
    "\n",
    "record = pd.Series({\n",
    "    'Resource Address' : 'https://arxiv.org/abs/2103.01456',\n",
    "    'Resource Name': 'Image-to-image Translation via Hierarchical Style Disentanglement',\n",
    "    'run code': False,\n",
    "    'read code': False,\n",
    "    'reimplementation' : False,\n",
    "    '10%-20%': True,\n",
    "    '20%-40%' : False,\n",
    "    '40%-60%' : False,\n",
    "    '60%-80%' : False,\n",
    "    '80%-100%' : False\n",
    "})\n",
    "\n",
    "record1 = pd.Series({\n",
    "    'Resource Address' : 'https://arxiv.org/abs/2008.00951',\n",
    "    'Resource Name': 'Encoding in Style: a StyleGAN Encoder for Image-to-Image Translation',\n",
    "    'run code': False,\n",
    "    'read code': False,\n",
    "    'reimplementation' : False,\n",
    "    '10%-20%': True,\n",
    "    '20%-40%' : False,\n",
    "    '40%-60%' : False,\n",
    "    '60%-80%' : False,\n",
    "    '80%-100%' : False\n",
    "})\n",
    "\n",
    "df = pd.DataFrame([record, record1])\n",
    "df.head()"
   ]
  },
  {
   "cell_type": "code",
   "execution_count": 6,
   "metadata": {},
   "outputs": [],
   "source": [
    "df.to_excel('reseach_progress.xlsx')"
   ]
  }
 ],
 "metadata": {
  "kernelspec": {
   "display_name": "Python 3",
   "language": "python",
   "name": "python3"
  },
  "language_info": {
   "codemirror_mode": {
    "name": "ipython",
    "version": 3
   },
   "file_extension": ".py",
   "mimetype": "text/x-python",
   "name": "python",
   "nbconvert_exporter": "python",
   "pygments_lexer": "ipython3",
   "version": "3.8.3"
  }
 },
 "nbformat": 4,
 "nbformat_minor": 1
}
